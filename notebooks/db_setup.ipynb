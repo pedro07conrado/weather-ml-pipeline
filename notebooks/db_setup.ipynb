{
 "cells": [
  {
   "cell_type": "code",
   "execution_count": null,
   "metadata": {
    "vscode": {
     "languageId": "plaintext"
    }
   },
   "outputs": [],
   "source": [
    "# 📦 Criação e Configuração do Banco de Dados\n",
    "\n",
    "Este notebook conecta ao banco PostgreSQL criado no Docker e executa os comandos SQL necessários para estruturar o banco de dados. Além de criar as tabelas, também configura índices para otimização de consultas e insere dados iniciais para teste.\n",
    "\n",
    "## Objetivos:\n",
    "- Estabelecer conexão segura com o PostgreSQL\n",
    "- Criar esquema de tabelas para dados brutos e predições\n",
    "- Configurar índices para otimização de performance\n",
    "- Inserir dados de exemplo para validação\n"
   ]
  },
  {
   "cell_type": "code",
   "execution_count": null,
   "metadata": {
    "vscode": {
     "languageId": "plaintext"
    }
   },
   "outputs": [],
   "source": [
    "#conexão com o banco de dados (com tratamentos de erros)\n",
    "\n",
    "import psycopg2\n",
    "import os\n",
    "from dotenv import load_dotenv\n",
    "from psycopg2 import OperationalError\n",
    "\n",
    "# Carregar variáveis de ambiente\n",
    "load_dotenv()\n",
    "\n",
    "# Parâmetros de conexão\n",
    "db_params = {\n",
    "    \"host\": os.getenv(\"DB_HOST\", \"localhost\"),\n",
    "    \"port\": os.getenv(\"DB_PORT\", \"5433\"),\n",
    "    \"database\": os.getenv(\"DB_NAME\", \"weather\"),\n",
    "    \"user\": os.getenv(\"DB_USER\", \"postgres\"),\n",
    "    \"password\": os.getenv(\"DB_PASSWORD\", \"postgres\")\n",
    "}\n",
    "\n",
    "# Função para conectar com tratamento de erros\n",
    "def connect_to_db(params):\n",
    "    try:\n",
    "        conn = psycopg2.connect(**params)\n",
    "        print(\"✅ Conexão estabelecida com sucesso!\")\n",
    "        return conn\n",
    "    except OperationalError as e:\n",
    "        print(f\"❌ Erro ao conectar ao banco de dados: {e}\")\n",
    "        return None\n",
    "\n",
    "# Estabelecer conexão\n",
    "conn = connect_to_db(db_params)\n",
    "\n",
    "if conn:\n",
    "    cursor = conn.cursor()\n",
    "else:\n",
    "    raise Exception(\"Não foi possível estabelecer conexão com o banco de dados.\")"
   ]
  },
  {
   "cell_type": "code",
   "execution_count": null,
   "metadata": {
    "vscode": {
     "languageId": "plaintext"
    }
   },
   "outputs": [],
   "source": [
    "# criar tabela raw_data \n",
    "\n",
    "# Definição da tabela para dados brutos climáticos\n",
    "create_raw_data_table = \"\"\"\n",
    "CREATE TABLE IF NOT EXISTS raw_data (\n",
    "    id SERIAL PRIMARY KEY,\n",
    "    city VARCHAR(50) NOT NULL,\n",
    "    temperature REAL NOT NULL,\n",
    "    humidity REAL NOT NULL,\n",
    "    timestamp TIMESTAMP DEFAULT CURRENT_TIMESTAMP\n",
    ");\n",
    "\"\"\"\n",
    "\n",
    "try:\n",
    "    cursor.execute(create_raw_data_table)\n",
    "    conn.commit()\n",
    "    print(\"✅ Tabela 'raw_data' criada com sucesso!\")\n",
    "except Exception as e:\n",
    "    conn.rollback()\n",
    "    print(f\"❌ Erro ao criar tabela 'raw_data': {e}\")"
   ]
  },
  {
   "cell_type": "code",
   "execution_count": null,
   "metadata": {
    "vscode": {
     "languageId": "plaintext"
    }
   },
   "outputs": [],
   "source": [
    "#criar tabela model_predictions \n",
    "\n",
    "# Definição da tabela para armazenar predições do modelo\n",
    "create_predictions_table = \"\"\"\n",
    "CREATE TABLE IF NOT EXISTS model_predictions (\n",
    "    id SERIAL PRIMARY KEY,\n",
    "    humidity REAL NOT NULL,\n",
    "    predicted_temperature REAL NOT NULL,\n",
    "    actual_temperature REAL,\n",
    "    prediction_error REAL,\n",
    "    model_version VARCHAR(50),\n",
    "    timestamp TIMESTAMP DEFAULT CURRENT_TIMESTAMP\n",
    ");\n",
    "\"\"\"\n",
    "\n",
    "try:\n",
    "    cursor.execute(create_predictions_table)\n",
    "    conn.commit()\n",
    "    print(\"✅ Tabela 'model_predictions' criada com sucesso!\")\n",
    "except Exception as e:\n",
    "    conn.rollback()\n",
    "    print(f\"❌ Erro ao criar tabela 'model_predictions': {e}\")"
   ]
  },
  {
   "cell_type": "code",
   "execution_count": null,
   "metadata": {
    "vscode": {
     "languageId": "plaintext"
    }
   },
   "outputs": [],
   "source": [
    "# criação de indices para otimização \n",
    "\n",
    "# Criar índices para otimizar consultas frequentes\n",
    "create_indices = [\n",
    "    \"CREATE INDEX IF NOT EXISTS idx_raw_data_city ON raw_data(city);\",\n",
    "    \"CREATE INDEX IF NOT EXISTS idx_raw_data_timestamp ON raw_data(timestamp);\",\n",
    "    \"CREATE INDEX IF NOT EXISTS idx_predictions_timestamp ON model_predictions(timestamp);\"\n",
    "]\n",
    "\n",
    "for index_query in create_indices:\n",
    "    try:\n",
    "        cursor.execute(index_query)\n",
    "        conn.commit()\n",
    "        print(f\"✅ Índice criado: {index_query}\")\n",
    "    except Exception as e:\n",
    "        conn.rollback()\n",
    "        print(f\"❌ Erro ao criar índice: {e}\")"
   ]
  },
  {
   "cell_type": "code",
   "execution_count": null,
   "metadata": {
    "vscode": {
     "languageId": "plaintext"
    }
   },
   "outputs": [],
   "source": [
    "# inserção de dados iniciais para teste \n",
    "\n",
    "from datetime import datetime, timedelta\n",
    "import random\n",
    "\n",
    "# Gerar dados fictícios para cinco cidades\n",
    "cities = ['São Paulo', 'Rio de Janeiro', 'Brasília', 'Curitiba', 'Recife']\n",
    "base_time = datetime.now() - timedelta(days=30)  # Dados dos últimos 30 dias\n",
    "\n",
    "# Preparar dados para inserção\n",
    "sample_data = []\n",
    "for city in cities:\n",
    "    # Gerar 10 registros por cidade\n",
    "    for i in range(10):\n",
    "        # Gerar timestamp com intervalos de 3 horas\n",
    "        timestamp = base_time + timedelta(hours=3*i)\n",
    "        # Temperatura em Celsius (variando entre 15-35)\n",
    "        temperature = round(random.uniform(15, 35), 1)\n",
    "        # Umidade em % (variando entre 30-90)\n",
    "        humidity = round(random.uniform(30, 90), 1)\n",
    "        sample_data.append((city, temperature, humidity, timestamp))\n",
    "\n",
    "# SQL para inserção\n",
    "insert_query = \"\"\"\n",
    "INSERT INTO raw_data (city, temperature, humidity, timestamp)\n",
    "VALUES (%s, %s, %s, %s);\n",
    "\"\"\"\n",
    "\n",
    "try:\n",
    "    cursor.executemany(insert_query, sample_data)\n",
    "    conn.commit()\n",
    "    print(f\"✅ {len(sample_data)} registros de exemplo inseridos com sucesso!\")\n",
    "except Exception as e:\n",
    "    conn.rollback()\n",
    "    print(f\"❌ Erro ao inserir dados de exemplo: {e}\")"
   ]
  },
  {
   "cell_type": "code",
   "execution_count": null,
   "metadata": {
    "vscode": {
     "languageId": "plaintext"
    }
   },
   "outputs": [],
   "source": [
    "# encerramento e validação \n",
    "\n",
    "# Verificar os dados inseridos\n",
    "cursor.execute(\"SELECT COUNT(*) FROM raw_data\")\n",
    "count = cursor.fetchone()[0]\n",
    "print(f\"Total de registros na tabela raw_data: {count}\")\n",
    "\n",
    "# Verificar estrutura da tabela\n",
    "cursor.execute(\"\"\"\n",
    "SELECT column_name, data_type \n",
    "FROM information_schema.columns \n",
    "WHERE table_name = 'raw_data'\n",
    "\"\"\")\n",
    "columns = cursor.fetchall()\n",
    "print(\"\\nEstrutura da tabela raw_data:\")\n",
    "for col in columns:\n",
    "    print(f\"- {col[0]}: {col[1]}\")\n",
    "\n",
    "# Fechar conexão\n",
    "cursor.close()\n",
    "conn.close()\n",
    "print(\"\\n✅ Processo concluído! Banco de dados configurado com sucesso.\")"
   ]
  }
 ],
 "metadata": {
  "language_info": {
   "name": "python"
  }
 },
 "nbformat": 4,
 "nbformat_minor": 2
}
